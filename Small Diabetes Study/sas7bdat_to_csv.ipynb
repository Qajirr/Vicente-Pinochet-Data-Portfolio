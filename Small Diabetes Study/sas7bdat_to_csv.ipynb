{
 "cells": [
  {
   "cell_type": "code",
   "execution_count": 1,
   "metadata": {},
   "outputs": [
    {
     "name": "stdout",
     "output_type": "stream",
     "text": [
      "Requirement already satisfied: pandas in c:\\python312\\lib\\site-packages (2.1.3)\n",
      "Requirement already satisfied: numpy<2,>=1.26.0 in c:\\python312\\lib\\site-packages (from pandas) (1.26.1)\n",
      "Requirement already satisfied: python-dateutil>=2.8.2 in c:\\python312\\lib\\site-packages (from pandas) (2.8.2)\n",
      "Requirement already satisfied: pytz>=2020.1 in c:\\python312\\lib\\site-packages (from pandas) (2023.3.post1)\n",
      "Requirement already satisfied: tzdata>=2022.1 in c:\\python312\\lib\\site-packages (from pandas) (2023.3)\n",
      "Requirement already satisfied: six>=1.5 in c:\\python312\\lib\\site-packages (from python-dateutil>=2.8.2->pandas) (1.16.0)\n",
      "Requirement already satisfied: sas7bdat in c:\\python312\\lib\\site-packages (2.2.3)\n",
      "Requirement already satisfied: six>=1.8.0 in c:\\python312\\lib\\site-packages (from sas7bdat) (1.16.0)\n"
     ]
    }
   ],
   "source": [
    "!pip install pandas"
   ]
  },
  {
   "cell_type": "code",
   "execution_count": 3,
   "metadata": {},
   "outputs": [
    {
     "name": "stdout",
     "output_type": "stream",
     "text": [
      "Collecting sas7bdat\n",
      "  Downloading sas7bdat-2.2.3.tar.gz (16 kB)\n",
      "  Installing build dependencies: started\n",
      "  Installing build dependencies: finished with status 'done'\n",
      "  Getting requirements to build wheel: started\n",
      "  Getting requirements to build wheel: finished with status 'done'\n",
      "  Preparing metadata (pyproject.toml): started\n",
      "  Preparing metadata (pyproject.toml): finished with status 'done'\n",
      "Requirement already satisfied: six>=1.8.0 in c:\\users\\vicen\\appdata\\local\\programs\\python\\python311\\lib\\site-packages (from sas7bdat) (1.16.0)\n",
      "Building wheels for collected packages: sas7bdat\n",
      "  Building wheel for sas7bdat (pyproject.toml): started\n",
      "  Building wheel for sas7bdat (pyproject.toml): finished with status 'done'\n",
      "  Created wheel for sas7bdat: filename=sas7bdat-2.2.3-py3-none-any.whl size=16337 sha256=032ee5cb68c826943ec2d603562e280ba8e2e4bec87cee238f35f666461225ce\n",
      "  Stored in directory: c:\\users\\vicen\\appdata\\local\\pip\\cache\\wheels\\9a\\95\\86\\436431e285591df3980accd5137b3e24f142914036bcb159d8\n",
      "Successfully built sas7bdat\n",
      "Installing collected packages: sas7bdat\n",
      "Successfully installed sas7bdat-2.2.3\n",
      "Note: you may need to restart the kernel to use updated packages.\n"
     ]
    },
    {
     "name": "stderr",
     "output_type": "stream",
     "text": [
      "\n",
      "[notice] A new release of pip is available: 23.1 -> 23.3.1\n",
      "[notice] To update, run: python.exe -m pip install --upgrade pip\n"
     ]
    }
   ],
   "source": [
    "pip install sas7bdat"
   ]
  },
  {
   "cell_type": "code",
   "execution_count": 4,
   "metadata": {},
   "outputs": [
    {
     "name": "stdout",
     "output_type": "stream",
     "text": [
      "        age       sex       bmi       map        tc       ldl       hdl   \n",
      "0  0.038076  0.050680  0.061696  0.021872 -0.044223 -0.034821 -0.043401  \\\n",
      "1 -0.001882 -0.044642 -0.051474 -0.026328 -0.008449 -0.019163  0.074412   \n",
      "2  0.085299  0.050680  0.044451 -0.005671 -0.045599 -0.034194 -0.032356   \n",
      "3 -0.089063 -0.044642 -0.011595 -0.036656  0.012191  0.024991 -0.036038   \n",
      "4  0.005383 -0.044642 -0.036385  0.021872  0.003935  0.015596  0.008142   \n",
      "\n",
      "        tch       ltg       glu  ...   ldl_tch   ldl_ltg   ldl_glu   hdl_tch   \n",
      "0 -0.002592  0.019908 -0.017646  ... -0.022038 -0.031125 -0.000922  0.033494  \\\n",
      "1 -0.039493 -0.068330 -0.092204  ... -0.011564  0.012973  0.023783 -0.023815   \n",
      "2 -0.002592  0.002864 -0.025930  ... -0.022063 -0.018016  0.004913  0.032956   \n",
      "3  0.034309  0.022692 -0.009362  ... -0.009984 -0.003373 -0.019109  0.008159   \n",
      "4 -0.002592 -0.031991 -0.046641  ... -0.024091 -0.026846 -0.029687  0.030984   \n",
      "\n",
      "    hdl_ltg   hdl_glu   tch_ltg   tch_glu   ltg_glu      y  \n",
      "0  0.000852  0.031150 -0.028191 -0.017658 -0.027794  151.0  \n",
      "1 -0.094506 -0.140378  0.025298  0.053034  0.104013   75.0  \n",
      "2  0.018281  0.032795 -0.027332 -0.017236 -0.022304  141.0  \n",
      "3  0.001898  0.021514 -0.012045 -0.024872 -0.025042  206.0  \n",
      "4  0.014489  0.005386 -0.025575 -0.016180  0.008735  135.0  \n",
      "\n",
      "[5 rows x 65 columns]\n",
      "                age           sex           bmi           map            tc   \n",
      "count  4.420000e+02  4.420000e+02  4.420000e+02  4.420000e+02  4.420000e+02  \\\n",
      "mean  -1.357466e-10 -1.266968e-09  1.583710e-10 -2.262443e-10  2.262444e-11   \n",
      "std    4.761905e-02  4.761905e-02  4.761905e-02  4.761905e-02  4.761905e-02   \n",
      "min   -1.072256e-01 -4.464164e-02 -9.027530e-02 -1.123996e-01 -1.267807e-01   \n",
      "25%   -3.729926e-02 -4.464164e-02 -3.422907e-02 -3.665645e-02 -3.424784e-02   \n",
      "50%    5.383060e-03 -4.464164e-02 -7.283770e-03 -5.670610e-03 -4.320870e-03   \n",
      "75%    3.807591e-02  5.068012e-02  3.124802e-02  3.564384e-02  2.835801e-02   \n",
      "max    1.107267e-01  5.068012e-02  1.705552e-01  1.320442e-01  1.539137e-01   \n",
      "\n",
      "                ldl           hdl           tch           ltg           glu   \n",
      "count  4.420000e+02  4.420000e+02  4.420000e+02  4.420000e+02  4.420000e+02  \\\n",
      "mean  -1.357466e-10 -6.787330e-11  1.674208e-09 -1.809955e-10 -1.131222e-10   \n",
      "std    4.761905e-02  4.761905e-02  4.761905e-02  4.761905e-02  4.761905e-02   \n",
      "min   -1.156131e-01 -1.023070e-01 -7.639450e-02 -1.260974e-01 -1.377672e-01   \n",
      "25%   -3.035839e-02 -3.511716e-02 -3.949338e-02 -3.324879e-02 -3.317903e-02   \n",
      "50%   -3.819070e-03 -6.584470e-03 -2.592260e-03 -1.947635e-03 -1.077700e-03   \n",
      "75%    2.984439e-02  2.931150e-02  3.430886e-02  3.243323e-02  2.791705e-02   \n",
      "max    1.987880e-01  1.811791e-01  1.852344e-01  1.335990e-01  1.356118e-01   \n",
      "\n",
      "       ...       ldl_tch       ldl_ltg       ldl_glu       hdl_tch   \n",
      "count  ...  4.420000e+02  4.420000e+02  4.420000e+02  4.420000e+02  \\\n",
      "mean   ... -1.131222e-10 -6.787330e-11  2.941176e-10  1.357466e-10   \n",
      "std    ...  4.761905e-02  4.761905e-02  4.761905e-02  4.761905e-02   \n",
      "min    ... -1.115079e-01 -1.825941e-01 -1.517344e-01 -2.348901e-01   \n",
      "25%    ... -2.369634e-02 -2.119392e-02 -2.093423e-02 -1.562203e-02   \n",
      "50%    ... -1.477062e-02 -8.660585e-03 -9.549845e-03  1.714849e-02   \n",
      "75%    ...  1.023090e-02  2.066205e-02  1.211329e-02  3.130439e-02   \n",
      "max    ...  5.551291e-01  2.033809e-01  2.990323e-01  8.044499e-02   \n",
      "\n",
      "            hdl_ltg       hdl_glu       tch_ltg       tch_glu       ltg_glu   \n",
      "count  4.420000e+02  4.420000e+02  4.420000e+02  4.420000e+02  4.420000e+02  \\\n",
      "mean   4.524887e-11  1.357466e-10  4.524887e-11 -1.131222e-10  2.262443e-10   \n",
      "std    4.761905e-02  4.761905e-02  4.761905e-02  4.761905e-02  4.761905e-02   \n",
      "min   -2.546851e-01 -2.232546e-01 -1.607455e-01 -1.289188e-01 -9.216539e-02   \n",
      "25%   -1.711674e-02 -1.350453e-02 -2.724511e-02 -2.061353e-02 -2.362367e-02   \n",
      "50%    8.962970e-03  8.559630e-03 -1.335187e-02 -1.565272e-02 -1.352819e-02   \n",
      "75%    2.251005e-02  2.208954e-02  1.507547e-02  1.765642e-02  1.307715e-02   \n",
      "max    1.630666e-01  2.099052e-01  3.758453e-01  3.181041e-01  3.381838e-01   \n",
      "\n",
      "                y  \n",
      "count  442.000000  \n",
      "mean   152.133484  \n",
      "std     77.093005  \n",
      "min     25.000000  \n",
      "25%     87.000000  \n",
      "50%    140.500000  \n",
      "75%    211.500000  \n",
      "max    346.000000  \n",
      "\n",
      "[8 rows x 65 columns]\n"
     ]
    }
   ],
   "source": [
    "import pandas as pd\n",
    "from sas7bdat import SAS7BDAT\n",
    "\n",
    "# Ruta hacia el archivo diabetes2.sas7bdat\n",
    "file_path = './Datos/diabetes2.sas7bdat'\n",
    "\n",
    "# Carga de datos desde el archivo .sas7bdat\n",
    "with SAS7BDAT(file_path) as file:\n",
    "    df = file.to_data_frame()\n",
    "\n",
    "# Visualización de los primeros registros para verificar la carga correcta\n",
    "print(df.head())\n",
    "\n",
    "# Cálculos estadísticos con pandas\n",
    "summary = df.describe()\n",
    "print(summary)\n",
    "\n",
    "df.to_csv('./Datos/diabetes.csv', index=False)  # Guarda como CSV sin incluir el índice"
   ]
  }
 ],
 "metadata": {
  "kernelspec": {
   "display_name": "Python 3",
   "language": "python",
   "name": "python3"
  },
  "language_info": {
   "codemirror_mode": {
    "name": "ipython",
    "version": 3
   },
   "file_extension": ".py",
   "mimetype": "text/x-python",
   "name": "python",
   "nbconvert_exporter": "python",
   "pygments_lexer": "ipython3",
   "version": "3.11.3"
  }
 },
 "nbformat": 4,
 "nbformat_minor": 2
}
